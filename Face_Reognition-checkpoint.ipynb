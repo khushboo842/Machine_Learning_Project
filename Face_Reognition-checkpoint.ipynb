


import cv2
import os
import shutil
vdo=cv2.VideoCapture(0)
img_no=1
name=os.getcwd()+"/images/"+input("enter name:")
if(os.path.exists(name)):
    shutil.rmtree(name)
    os.mkdir(name)
else:
    os.mkdir(name)
clf=cv2.CascadeClassifier('haarcascade_frontalface_default.xml')
while(True):
    flag,img=vdo.read()
    gray=cv2.cvtColor(img,cv2.COLOR_BGR2GRAY)
    faces=clf.detectMultiScale(gray,1.2,5)
    for x,y,w,h in faces:
        f=img[y:y+h,x:x+w]
        cv2.rectangle(img,(x,y),(x+w,y+h),(255,0,0),2)
        cv2.imwrite(f"{name}/{img_no}.png",f)
    img_no=img_no+1
    cv2.putText(img,f'Image captured:{img_no}',(10,22),cv2.FONT_HERSHEY_PLAIN,2,(0,255,255),2)
    cv2.namedWindow("Reading Face")
    cv2.moveWindow("Reading Face",200,60)
    cv2.imshow("Reading Face",img)
    k=cv2.waitKey(50)
    if(k==ord('q') or img_no==100):
        break
vdo.release()
cv2.destroyAllWindows()





import os
import cv2
import numpy as np
from sklearn.linear_model import LogisticRegression
from sklearn.decomposition import PCA
clf=cv2.CascadeClassifier('haarcascade_frontalface_default.xml')
classes=os.listdir('images')
Y=[]
X=[]
for cls in classes:
    for img in os.listdir("images/"+cls):
        imgpath=f'images/{cls}/{img}'
        imge=cv2.imread(imgpath)
        gray=cv2.cvtColor(imge,cv2.COLOR_BGR2GRAY)
        faces=clf.detectMultiScale(gray,minSize=(40, 40))
        for x,y,w,h in faces:
            gray=gray[y:y+h,x:x+w]
            gray=gray[:40,:40]
            gray=gray.flatten()
            X.append(gray)    
            Y.append(cls)
X=np.array(X,dtype=object)
pca=PCA(.99)
model=LogisticRegression()
model.fit(pca.fit_transform(X),Y)





import cv2
vdo=cv2.VideoCapture(0)
clf=cv2.CascadeClassifier("haarcascade_frontalface_default.xml")
while(True):
    flag,img=vdo.read()
    gray_img=cv2.cvtColor(img,cv2.COLOR_BGR2GRAY)
    faces=clf.detectMultiScale(gray_img,1.3,4,minSize=(40,40))
    xi=[];yi=[];wi=[];hi=[];X_test=[];
    for x,y,w,h in faces:
        gray=gray_img[y:y+h,x:x+w]
        gray=gray[:40,:40]
        gray=gray.flatten()
        X_test.append(gray)
        xi.append(x);yi.append(y);wi.append(w);hi.append(h)
    if(len(X_test)>0):
        pred=model.predict(pca.transform(np.array(X_test)))
        for i in range(len(pred)):
            cv2.rectangle(img,(xi[i],yi[i]),(xi[i]+wi[i],yi[i]+hi[i]),(255,0,0),2)
            cv2.putText(img,pred[i],(xi[i],yi[i]),cv2.FONT_HERSHEY_COMPLEX_SMALL,2,(0,255,0),2)
            cv2.namedWindow("Prediction")
            cv2.moveWindow("Prediction",200,60)
            cv2.imshow("Prediction",img)
        k=cv2.waitKey(50)
        if(k==ord('q')):
            break
vdo.release()
cv2.destroyAllWindows()


mkdir "D:\\Projects\\images\\akash"



