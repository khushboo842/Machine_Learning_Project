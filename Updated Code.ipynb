from tkinter import * 
from tkinter import messagebox
from tkinter import filedialog
import cv2
import shutil
import os
import numpy as np
import pandas as pd
from tkinter import Label
from PIL import Image, ImageTk
from tkinter import simpledialog
from sklearn.linear_model import LogisticRegression
from sklearn.decomposition import PCA
import time
import datetime
from openpyxl import load_workbook

global txt
global lmain,cap,lmain,imageFrame
win=Tk()
win.state("zoomed")
win.resizable(width=False,height=False)
win.configure(bg="orange")
win.title("My project")

lbl_title=Label(win,text="Face Recognition",font=('',55,'bold','underline'),bg='orange')
lbl_title.pack()


#----------------------------------------Image---------------------------------------
imageFrame=None
def startface(img_path):
    clf=cv2.CascadeClassifier("haarcascade_frontalface_default.xml")
    gray = cv2.cvtColor(frame,cv2.COLOR_BGR2GRAY) 
    faces=clf.detectMultiScale(gray,1.2,5)
    for x,y,w,h in faces:
        cv2.rectangle(cv2image,(x,y),(x+w,y+h),(255,0,0),2)
    img = Image.fromarray(cv2image)
    imgtk = ImageTk.PhotoImage(image=img)
    lmain.imgtk = imgtk
    lmain.configure(image=imgtk)
def browse():
    global imageFrame
    if(imageFrame!=None):
        imageFrame.destroy()
    file_path=filedialog.askopenfilename()
    frame=cv2.imread(file_path)
    cv2image = cv2.cvtColor(frame,cv2.COLOR_BGR2RGB)
    
    imageFrame= Frame(width=700, height=500,bd=6,bg='black')
    lmain =Label(imageFrame)
    lmain.grid(row=0, column=0)
    imageFrame.place(relx=.37,rely=.3)
    img = Image.fromarray(cv2image)
    imgtk = ImageTk.PhotoImage(image=img)
    lmain.imgtk = imgtk
    lmain.configure(image=imgtk)
    btn_Detection=Button(command=lambda:startface(frame,cv2image,lmain),text='Detect face',font=('',20,'bold'),bd=10,width=12).place(relx=.4,rely=.9)
def image_screen():
    frm=Frame(win,bg='sky blue')
    frm.place(relx=0,rely=.15,relwidth=1,relheight=1)
 
    btn_Browse=Button(frm,command=lambda:browse(),text="Browse",font=('',20,'bold'),bd=10,width=8)
    btn_Browse.place(relx=.38,rely=.01)

    btn_back=Button(frm,command=lambda:welcome_screen(),text="back",font=('',20,'bold'),bd=10)
    btn_back.place(relx=.9,rely=0)
#----------------------------------------------xxxxxxxxxx-----------------------------------------------------------    


#-------------------------------------------Video_Screen--------------------------------------------------------------
iFrame=None
def browse_video():
    global iFrame
    if(iFrame!=None):
        iFrame.destroy()
    file_path=filedialog.askopenfilename()
    vdo=cv2.VideoCapture(file_path)
    while(True):
            flag,img=vdo.read()
            gray=cv2.cvtColor(img,cv2.COLOR_BGR2GRAY)
            faces=clf.detectMultiScale(gray,1.2,6);
            cv2.putText(img,"Press 'q' to quit video",(20,30),5,2,(255,0,0),2)
            faces=clf.detectMultiScale(gray,1.3,6,minSize=(40,40))
            xi=[];yi=[];wi=[];hi=[];X_test=[];
            for x,y,w,h in faces:
                gr=gray[y:y+h,x:x+w]
                gr=gr[:40,:40]
                gr=gr.flatten()
                X_test.append(gr)
                xi.append(x);yi.append(y);wi.append(w);hi.append(h)
            if(len(X_test)>0):
                pred=model.predict(pca.transform(np.array(X_test)))
                for i in range(len(pred)):
                    cv2.rectangle(img,(xi[i],yi[i]),(xi[i]+wi[i],yi[i]+hi[i]),(255,0,0),2)
                    cv2.putText(img,pred[i],(xi[i],yi[i]),cv2.FONT_HERSHEY_COMPLEX_SMALL,2,(0,255,0),2)
                    cv2.namedWindow("Prediction")
                    cv2.moveWindow("Prediction",200,60)
                    cv2.imshow("Prediction",img)
                    k=cv2.waitKey(10)
                    if(k==ord('q')):
                        break  

    vdo.release()
    cv2.destroyAllWindows()
    
    
def video_screen(): 
    frm=Frame(win,bg='sky blue')
    frm.place(relx=0,rely=.15,relwidth=1,relheight=1)
  
    btn_Browse=Button(frm,command=lambda:browse_video(),text="Browse",font=('',20,'bold'),bd=10,width=8)
    btn_Browse.place(relx=.37,rely=.05)
    btn_back=Button(frm,command=lambda:welcome_screen(),text="back",font=('',20,'bold'),bd=10)
    btn_back.place(relx=.9,rely=0)
  
   
#--------------------------------------------WebCam-----------------------------------------------------------------
flag=False  
clf=cv2.CascadeClassifier('haarcascade_frontalface_default.xml')

def stop():
    global lmain,cap,lmain,imageFrame
    cap=cv2.VideoCapture(0)
    cap.release()
    lmain.destroy()
    imageFrame.destroy()

def startfac():
    def generate_timestamp():
        return datetime.datetime.now().strftime("%Y-%m-%d %H:%M:%S")
    timestamp = generate_timestamp()

    global flag
    flag=True
    
def stopface():
    global flag
    flag=False

import cv2
import os
import datetime
import time
import pandas as pd

def show_frame():
    recognizer = cv2.face.LBPHFaceRecognizer_create()
    recognizer.read("classifier.xml")
   
    harcascadePath = "haarcascade_frontalface_default.xml"
    faceCascade = cv2.CascadeClassifier(harcascadePath)
     
    cam = cv2.VideoCapture(0)
    cv2.FONT_HERSHEY_SIMPLEX
    txt = ""
    
    # create a dataframe to store the results
    df = pd.DataFrame(columns=["Name", "ID", "Date", "Time"])
    
    while True:
        ret, im = cam.read()
        gray = cv2.cvtColor(im, cv2.COLOR_BGR2GRAY)
        faces = faceCascade.detectMultiScale(gray, 1.2, 5)
    
        for (x, y, w, h) in faces:
            cv2.rectangle(im, (x,y), (x+w,y+h), (225,0,0), 2)
            Id, conf = recognizer.predict(gray[y:y+h,x:x+w])
            
            if conf >= 80:
                # get the name corresponding to the ID from the Excel file
                data = pd.read_excel("Results.xlsx")
                name = data.loc[data["ID"] == Id, "Name"].values[0]
                
                cv2.putText(im, "Recognized: " + str(name), (x, y-10), cv2.FONT_HERSHEY_SIMPLEX, 0.8, (0, 255, 0), 2)
                
                # add the result to the dataframe
                df = df.append({"Name": name, "ID": Id, "Date": datetime.date.today().strftime("%Y-%m-%d"), "Time": datetime.datetime.now().strftime("%H:%M:%S")}, ignore_index=True)
                
            else:   
                noOfFile = len(os.listdir("ImagesUnknown"))+1
                #cv2.imwrite("ImagesUnknown\Image" + str(noOfFile) + ".jpg", im[y:y+h,x:x+w])
                Id='Unknown'
                txt=str(Id)
                cv2.putText(im, str(txt), (x,y+h), cv2.FONT_HERSHEY_SIMPLEX, 1, (255,255,255), 2)
                
            ts = time.time()
            date = datetime.datetime.fromtimestamp(ts).strftime("%Y-%m-%d")
            timeStamp = datetime.datetime.fromtimestamp(ts).strftime("%H:%M:%S")
        
        cv2.imshow('ret',im)
        
        if (cv2.waitKey(1) == ord('q')):
            cam.release()
            cv2.destroyAllWindows()
            
            # add the result to the dataframe
            new_row = {"Name": name, "ID": Id, "Date": datetime.date.today().strftime("%Y-%m-%d"), "Time": datetime.datetime.now().strftime("%H:%M:%S")}
            df = df.append(new_row, ignore_index=True)

            # drop duplicates of IDs and keep only the first occurrence
            df.drop_duplicates(subset=["ID"], keep="first", inplace=True)

            # write the dataframe to the Excel file
            book = load_workbook("Results.xlsx")
            writer = pd.ExcelWriter("Results.xlsx", engine="openpyxl")
            writer.book = book
            writer.sheets = dict((ws.title, ws) for ws in book.worksheets)

            if "Sheet2" not in writer.sheets:
                df.to_excel(writer, sheet_name="Sheet2", index=False)
            else:
                df.to_excel(writer, sheet_name="Sheet2", index=False, header=False, startrow=writer.sheets["Sheet2"].max_row)
            writer.save()
            writer.close()

            break


    
def start():
    
    cam=cv2.VideoCapture(0)
    imageFrame=Frame(width=1500,height=2000,bd=1,bg='green')
    lmain=Label(imageFrame)
    lmain.grid(row=5, column=10)
    imageFrame.place(relx=.3,rely=.2)
    btn_DetectFace=Button(imageFrame,command=lambda:startfac()and generate_timestamp(),text='recognize face',font=('',20),bd=5,width=12).place(relx=.1,rely=.85)
    btn_Stop=Button(imageFrame,command=lambda:stopface(),text='stop recognizing',font=('',20),bd=5,width=12).place(relx=.5,rely=.85)
    
    
    show_frame()
    



    
def webcam_screen():
    frm=Frame(win,bg='sky blue')
    frm.place(relx=0,rely=.15,relwidth=1,relheight=1)
    btn_StartCam=Button(command=lambda:start(),text='start camera ',font=('',20,'bold'),bd=10).place(relx=.01,rely=.2)
    btn_StopCam=Button(command=lambda:stop(),text='stop camera',font=('',20,'bold'),bd=10).place(relx=.01,rely=.4)
    btn_back=Button(frm,command=lambda:welcome_screen(),text="back",font=('',20,'bold'),bd=10)
    btn_back.place(relx=.9,rely=0)


def webcam_screen_capture():
    frm=Frame(win,bg='sky blue')
    frm.place(relx=0,rely=.15,relwidth=1,relheight=1)
    btn_StartCam=Button(command=lambda:start_capture(),text='start camera ',font=('',20,'bold'),bd=10).place(relx=.01,rely=.2)
    btn_StopCam=Button(command=lambda:stop(),text='stop camera',font=('',20,'bold'),bd=10).place(relx=.01,rely=.4)
    btn_back=Button(frm,command=lambda:welcome_screen(),text="back",font=('',20,'bold'),bd=10)
    btn_back.place(relx=.9,rely=0) 
    
from tkinter import simpledialog
import cv2
import os
from PIL import Image, ImageTk

def start_capture():
    name = simpledialog.askstring("Input", "What is your name?")
    id_ = simpledialog.askinteger("Input", "What is your ID?")
    if name and id_:
        cam = cv2.VideoCapture(0)
        harcascadePath = "haarcascade_frontalface_default.xml"
        detector = cv2.CascadeClassifier(harcascadePath)
        sampleNum = 0 
        while True:
            frame, img = cam.read()
            gray = cv2.cvtColor(img, cv2.COLOR_BGR2GRAY)
            faces = detector.detectMultiScale(gray, 1.3, 5)
            for (x,y,w,h) in faces:
                #incrementing sample number
                sampleNum = sampleNum + 1
                #saving the captured face in the images folder
                cv2.imwrite(os.path.join("images", f"{id_}.{sampleNum}.jpg"), gray[y:y+h, x:x+w])
                #display the frame
                cv2.imshow('frame', img)
            #wait for 100 miliseconds 
            if cv2.waitKey(100) & 0xFF == ord('q'):
                break
            #break if the sample number is more than 60
            elif sampleNum > 150:
                break
        cam.release()
        cv2.destroyAllWindows()

        # Append data to Excel file
        now = datetime.datetime.now()
        date_time = now.strftime("%Y-%m-%d %H:%M:%S")
        data = {'Name': [name], 'ID': [id_], 'Date': [date_time]}
        df = pd.DataFrame(data)
        if os.path.exists('Results.xlsx'):
            results_df = pd.read_excel('Results.xlsx')
            results_df = pd.concat([results_df, df], axis=0)
            results_df.to_excel('Results.xlsx', index=False)
        else:
            df.to_excel('Results.xlsx', index=False)
    
def logout():
    option=messagebox.askyesno('Confirmation','Do you want to logout?')
    if(option==True):
        home_screen()
    else:
        pass


def home_screen():
    frm=Frame(win,bg='sky blue')
    frm.place(relx=0,rely=.15,relwidth=1,relheight=1)
    
    lbl_user=Label(frm,text="Username",font=('',20,'bold'),bg='sky blue')
    lbl_user.place(relx=.28,rely=.3)

    entry_user=Entry(frm,font=('',20,'bold'),bd=10)
    entry_user.place(relx=.42,rely=.3)
    entry_user.focus()

    lbl_pass=Label(frm,text="Password",font=('',20,'bold'),bg='sky blue')
    lbl_pass.place(relx=.28,rely=.4)

    entry_pass=Entry(frm,font=('',20,'bold'),bd=10,show="*")
    entry_pass.place(relx=.42,rely=.4)

    btn_login=Button(frm,command=lambda:welcome_screen(entry_user,entry_pass),text="login",font=('',20,'bold'),bd=10,width=10)
    btn_login.place(relx=.45,rely=.5)
        
    
def predict_screen(entry_user=None,entry_pass=None):
            frm=Frame(win,bg='skyblue')
            frm.place(relx=0,rely=.15,relwidth=1,relheight=1)

            btn_image=Button(frm,command=lambda:image_screen(),text="Use Image",font=('',20,'bold'),bd=10,width=25)
            btn_image.place(relx=.3,rely=.2)

            btn_video=Button(frm,command=lambda:video_screen(),text="Use Video",font=('',20,'bold'),bd=10,width=25)
            btn_video.place(relx=.3,rely=.4)
            
            btn_webcam=Button(frm,command=lambda:webcam_screen(),text="Use Webcam",font=('',20,'bold'),bd=10,width=25)
            btn_webcam.place(relx=.3,rely=.6)

            btn_back=Button(frm,command=lambda:welcome_screen(),text="back",font=('',20,'bold'),bd=10)
            btn_back.place(relx=.88,rely=0)

def train_model():
    data_dir = "images"
    path = [os.path.join(data_dir, file) for file in os.listdir(data_dir)]

    faces = []
    ids = []

    for image in path:
        img = Image.open(image).convert('L')
        imageNp = np.array(img, 'uint8')
        id = int(os.path.split(image)[1].split('.')[0])

        faces.append(imageNp)
        ids.append(id)
        #cv2.imshow("Training Photos Sample", imageNp)
        #cv2.waitKey(1) == 13

    ids = np.array(ids)

    face_recognizer = cv2.face.LBPHFaceRecognizer.create()
    face_recognizer.train(faces, ids)
    face_recognizer.write("classifier.xml")
    cv2.destroyAllWindows()
    messagebox.showinfo("Result", "Training Data Sets have been completed!")


    
def welcome_screen(entry_user=None,entry_pass=None):
    if(entry_user!=None and entry_pass!=None):
        user=entry_user.get()
        pwd=entry_pass.get()
    else:
        user="admin"
        pwd="admin"
    if(len(user)==0 or len(pwd)==0):
        messagebox.showwarning("validation","Please fill both fields")
        return
    else:
        if(user=="admin" or pwd=="admin"):
            frm=Frame(win,bg='skyblue')
            frm.place(relx=0,rely=.15,relwidth=1,relheight=1)

            btn_cap=Button(frm,command=lambda:webcam_screen_capture(),text="Capture Face",font=('',20,'bold'),bd=10,width=25)
            btn_cap.place(relx=.3,rely=.2)
            
            btn_train=Button(frm,command=lambda:train_model(),text="Train Model",font=('',20,'bold'),bd=10,width=25)
            btn_train.place(relx=.3,rely=.4)
            
            btn_wel=Button(frm,command=lambda:predict_screen(),text="Predict",font=('',20,'bold'),bd=10,width=25)
            btn_wel.place(relx=.3,rely=.6)

            btn_logout=Button(frm,command=lambda:logout(),text="logout",font=('',20,'bold'),bd=10)
            btn_logout.place(relx=.88,rely=0)
        else:
            messagebox.showerror("Fail","Invalid Username/Password")
            
home_screen()
win.mainloop()



